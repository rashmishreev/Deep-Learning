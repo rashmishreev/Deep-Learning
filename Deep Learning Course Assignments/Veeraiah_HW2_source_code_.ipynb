{
 "cells": [
  {
   "cell_type": "markdown",
   "id": "512a464f",
   "metadata": {},
   "source": [
    "### Problem 1: Apply the following models on the Fashion Mnist Dataset. Train the model with the training data and evaluate the model with the test data."
   ]
  },
  {
   "cell_type": "markdown",
   "id": "f61bcf5f",
   "metadata": {},
   "source": [
    "### a. CNN model from scratch\n",
    "Develop a CNN model with 5 convolutional layers (with kernel size= 3, stride =1, padding = “same”, activation function = “relu”) with following MaxPooling layer (Size= 2) and 3 fully connected layer (including one output layer). After each of the Convolutional layer apply Batch Normalization. In the fully connected layer apply dropout (rate 0.50). Show the learning curve. Report performance evaluation on the test data."
   ]
  },
  {
   "cell_type": "markdown",
   "id": "8e2cf86e",
   "metadata": {},
   "source": [
    "### Importing the necessary libraries"
   ]
  },
  {
   "cell_type": "code",
   "execution_count": 78,
   "id": "6618b486",
   "metadata": {},
   "outputs": [],
   "source": [
    "import numpy as np\n",
    "import tensorflow as tf\n",
    "from tensorflow.keras import layers, models\n",
    "from tensorflow.keras.datasets import fashion_mnist\n",
    "from sklearn.model_selection import StratifiedKFold\n",
    "import matplotlib.pyplot as plt\n",
    "\n",
    "from tensorflow.keras.models import Sequential\n",
    "from tensorflow.keras.layers import Dense, Conv2D, MaxPooling2D, Flatten, Dropout, BatchNormalization\n",
    "from tensorflow.keras.optimizers import Adam, Adagrad\n",
    "from tensorflow.keras.activations import relu, elu\n",
    "from tensorflow.keras.callbacks import History\n",
    "from sklearn.model_selection import KFold\n",
    "import matplotlib.pyplot as plt"
   ]
  },
  {
   "cell_type": "markdown",
   "id": "f7e4ec2d",
   "metadata": {},
   "source": [
    "### Loading the Fashion Mnist data from keras"
   ]
  },
  {
   "cell_type": "code",
   "execution_count": 44,
   "id": "a50682da",
   "metadata": {},
   "outputs": [],
   "source": [
    "(train_images, train_labels), (test_images, test_labels) = fashion_mnist.load_data()\n",
    "\n",
    "# Reshaping and preprocessing the training images\n",
    "train_images = train_images.reshape((60000, 28, 28, 1)).astype('float32') / 255 # Reshape the training images array to have 60,000 samples, each of which is a 28x28 pixel image with a single channel.\n",
    "test_images = test_images.reshape((10000, 28, 28, 1)).astype('float32') / 255"
   ]
  },
  {
   "cell_type": "markdown",
   "id": "6a10a93c",
   "metadata": {},
   "source": [
    "### Building the CNN model and adding layers"
   ]
  },
  {
   "cell_type": "code",
   "execution_count": 46,
   "id": "91d375aa",
   "metadata": {},
   "outputs": [],
   "source": [
    "# Create CNN model\n",
    "model = models.Sequential()\n",
    "\n",
    "# Adding Convolutional layer 1 with 32 filters, a filter size of (3, 3), using strides of (1, 1), 'same' padding, and ReLU activation. \n",
    "model.add(layers.Conv2D(32, (3, 3), strides=(1, 1), padding='same', activation='relu', input_shape=(28, 28, 1)))\n",
    "\n",
    "# Adding a Batch Normalization layer to normalize the activations of the previous layer.\n",
    "model.add(layers.BatchNormalization())\n",
    "\n",
    "# Adding a Max Pooling layer with a pool size of (2, 2) to perform down-sampling.\n",
    "model.add(layers.MaxPooling2D((2, 2)))\n",
    "\n",
    "# Adding Convolutional layer 2 with 64 filters\n",
    "model.add(layers.Conv2D(64, (3, 3), strides=(1, 1), padding='same', activation='relu'))\n",
    "model.add(layers.BatchNormalization())\n",
    "model.add(layers.MaxPooling2D((2, 2)))\n",
    "\n",
    "# Adding Convolutional layer 3 with 128 filters\n",
    "model.add(layers.Conv2D(128, (3, 3), strides=(1, 1), padding='same', activation='relu'))\n",
    "model.add(layers.BatchNormalization())\n",
    "\n",
    "# Adding Convolutional layer 4 with 256 filters\n",
    "model.add(layers.Conv2D(256, (3, 3), strides=(1, 1), padding='same', activation='relu'))\n",
    "model.add(layers.BatchNormalization())\n",
    "\n",
    "# Adding Convolutional layer 5 with 512 filters\n",
    "model.add(layers.Conv2D(512, (3, 3), strides=(1, 1), padding='same', activation='relu'))\n",
    "model.add(layers.BatchNormalization())\n",
    "\n",
    "# Flatten the previous layer to convert the data into a 1D array for input into the Dense layers.\n",
    "model.add(layers.Flatten())\n",
    "\n",
    "# Adding Dense layer with 512 neurons and ReLU activation\n",
    "model.add(layers.Dense(512, activation='relu'))\n",
    "\n",
    "# Adding a Dropout layer to prevent overfitting\n",
    "model.add(layers.Dropout(0.5))\n",
    "\n",
    "#Adding another Dense layer with 256 neurons\n",
    "model.add(layers.Dense(256, activation='relu'))\n",
    "model.add(layers.Dropout(0.5))\n",
    "\n",
    "# Adding a final Dense layer with 10 neurons and softmax activation for multi-class classification.\n",
    "model.add(layers.Dense(10, activation='softmax'))"
   ]
  },
  {
   "cell_type": "markdown",
   "id": "badca21b",
   "metadata": {},
   "source": [
    "### Compile the model"
   ]
  },
  {
   "cell_type": "code",
   "execution_count": 47,
   "id": "ae8ad1bd",
   "metadata": {},
   "outputs": [],
   "source": [
    "model.compile(optimizer='adam', loss='sparse_categorical_crossentropy', metrics=['accuracy'])"
   ]
  },
  {
   "cell_type": "markdown",
   "id": "eb5c9fcb",
   "metadata": {},
   "source": [
    "### Train the model"
   ]
  },
  {
   "cell_type": "code",
   "execution_count": 49,
   "id": "d5d6fac2",
   "metadata": {},
   "outputs": [
    {
     "name": "stdout",
     "output_type": "stream",
     "text": [
      "Epoch 1/5\n",
      "375/375 [==============================] - 708s 2s/step - loss: 0.8035 - accuracy: 0.7648 - val_loss: 5.5054 - val_accuracy: 0.5455\n",
      "Epoch 2/5\n",
      "375/375 [==============================] - 641s 2s/step - loss: 0.3991 - accuracy: 0.8643 - val_loss: 0.3059 - val_accuracy: 0.8867\n",
      "Epoch 3/5\n",
      "375/375 [==============================] - 530s 1s/step - loss: 0.3027 - accuracy: 0.8944 - val_loss: 0.2833 - val_accuracy: 0.8956\n",
      "Epoch 4/5\n",
      "375/375 [==============================] - 526s 1s/step - loss: 0.2608 - accuracy: 0.9091 - val_loss: 0.2633 - val_accuracy: 0.9034\n",
      "Epoch 5/5\n",
      "375/375 [==============================] - 529s 1s/step - loss: 0.2447 - accuracy: 0.9137 - val_loss: 0.2686 - val_accuracy: 0.9095\n"
     ]
    }
   ],
   "source": [
    "# Train the CNN model on the provided training data and labels for 5 epochs\n",
    "#using a batch size of 128 and a 20% validation split for monitoring the model's performance.\n",
    "history = model.fit(train_images, train_labels, epochs=5, batch_size=128, validation_split=0.2)"
   ]
  },
  {
   "cell_type": "markdown",
   "id": "58e61d7b",
   "metadata": {},
   "source": [
    "### Evaluate the model"
   ]
  },
  {
   "cell_type": "code",
   "execution_count": 50,
   "id": "2f496ae2",
   "metadata": {},
   "outputs": [
    {
     "name": "stdout",
     "output_type": "stream",
     "text": [
      "313/313 [==============================] - 25s 79ms/step - loss: 0.3067 - accuracy: 0.9018\n",
      "Test accuracy: 0.9017999768257141\n"
     ]
    }
   ],
   "source": [
    "# Evaluate the model on the test data\n",
    "test_loss, test_acc = model.evaluate(test_images, test_labels)\n",
    "print('Test accuracy:', test_acc)"
   ]
  },
  {
   "cell_type": "markdown",
   "id": "9c3332a0",
   "metadata": {},
   "source": [
    "#### The reported accuracy on Test is: 0.9017999768257141"
   ]
  },
  {
   "cell_type": "markdown",
   "id": "185adfeb",
   "metadata": {},
   "source": [
    "### Learning Curve"
   ]
  },
  {
   "cell_type": "code",
   "execution_count": 51,
   "id": "03f4811d",
   "metadata": {},
   "outputs": [
    {
     "data": {
      "image/png": "[encoded data removed]",
      "text/plain": [
       "<Figure size 640x480 with 1 Axes>"
      ]
     },
     "metadata": {},
     "output_type": "display_data"
    }
   ],
   "source": [
    "# Plotting the learning curve\n",
    "plt.plot(history.history['accuracy'], label='accuracy')\n",
    "plt.plot(history.history['val_accuracy'], label='val_accuracy')\n",
    "plt.xlabel('Epoch')\n",
    "plt.ylabel('Accuracy')\n",
    "plt.ylim([0, 1])\n",
    "plt.legend(loc='lower right')\n",
    "plt.show()"
   ]
  },
  {
   "cell_type": "markdown",
   "id": "7bc992e8",
   "metadata": {},
   "source": [
    "#### Model Summary"
   ]
  },
  {
   "cell_type": "code",
   "execution_count": 90,
   "id": "e43f1614",
   "metadata": {},
   "outputs": [
    {
     "name": "stdout",
     "output_type": "stream",
     "text": [
      "Model: \"sequential_20\"\n",
      "_________________________________________________________________\n",
      " Layer (type)                Output Shape              Param #   \n",
      "=================================================================\n",
      " conv2d_192 (Conv2D)         (None, 28, 28, 32)        320       \n",
      "                                                                 \n",
      " batch_normalization_184 (B  (None, 28, 28, 32)        128       \n",
      " atchNormalization)                                              \n",
      "                                                                 \n",
      " max_pooling2d_48 (MaxPooli  (None, 14, 14, 32)        0         \n",
      " ng2D)                                                           \n",
      "                                                                 \n",
      " conv2d_193 (Conv2D)         (None, 14, 14, 64)        18496     \n",
      "                                                                 \n",
      " batch_normalization_185 (B  (None, 14, 14, 64)        256       \n",
      " atchNormalization)                                              \n",
      "                                                                 \n",
      " max_pooling2d_49 (MaxPooli  (None, 7, 7, 64)          0         \n",
      " ng2D)                                                           \n",
      "                                                                 \n",
      " conv2d_194 (Conv2D)         (None, 7, 7, 128)         73856     \n",
      "                                                                 \n",
      " batch_normalization_186 (B  (None, 7, 7, 128)         512       \n",
      " atchNormalization)                                              \n",
      "                                                                 \n",
      " conv2d_195 (Conv2D)         (None, 7, 7, 256)         295168    \n",
      "                                                                 \n",
      " batch_normalization_187 (B  (None, 7, 7, 256)         1024      \n",
      " atchNormalization)                                              \n",
      "                                                                 \n",
      " conv2d_196 (Conv2D)         (None, 7, 7, 512)         1180160   \n",
      "                                                                 \n",
      " batch_normalization_188 (B  (None, 7, 7, 512)         2048      \n",
      " atchNormalization)                                              \n",
      "                                                                 \n",
      " flatten_20 (Flatten)        (None, 25088)             0         \n",
      "                                                                 \n",
      " dense_70 (Dense)            (None, 256)               6422784   \n",
      "                                                                 \n",
      " dropout_40 (Dropout)        (None, 256)               0         \n",
      "                                                                 \n",
      " dense_71 (Dense)            (None, 128)               32896     \n",
      "                                                                 \n",
      " dropout_41 (Dropout)        (None, 128)               0         \n",
      "                                                                 \n",
      " dense_72 (Dense)            (None, 10)                1290      \n",
      "                                                                 \n",
      "=================================================================\n",
      "Total params: 8028938 (30.63 MB)\n",
      "Trainable params: 8026954 (30.62 MB)\n",
      "Non-trainable params: 1984 (7.75 KB)\n",
      "_________________________________________________________________\n"
     ]
    }
   ],
   "source": [
    "model.summary()"
   ]
  },
  {
   "cell_type": "markdown",
   "id": "317c7d1f",
   "metadata": {},
   "source": [
    "### b. Apply 5-Fold Cross Validation on the CNN model developed in (a) and report the average accuracy with standard deviation."
   ]
  },
  {
   "cell_type": "markdown",
   "id": "4c08ac4d",
   "metadata": {},
   "source": [
    "#### Importing necessary libraries, loading and pre-processing the Fashion MNIST data as in previous steps"
   ]
  },
  {
   "cell_type": "code",
   "execution_count": 79,
   "id": "4f89b599",
   "metadata": {},
   "outputs": [],
   "source": [
    "import numpy as np\n",
    "import tensorflow as tf\n",
    "from tensorflow.keras import datasets, layers, models, utils\n",
    "from sklearn.model_selection import KFold\n",
    "\n",
    "# Load Fashion MNIST dataset\n",
    "(train_images, train_labels), (test_images, test_labels) = datasets.fashion_mnist.load_data()\n",
    "\n",
    "# Preprocess the data\n",
    "train_images = train_images.reshape((60000, 28, 28, 1))\n",
    "test_images = test_images.reshape((10000, 28, 28, 1))\n",
    "train_images, test_images = train_images / 255.0, test_images / 255.0"
   ]
  },
  {
   "cell_type": "markdown",
   "id": "e9174d98",
   "metadata": {},
   "source": [
    "#### Creating the CNN model similar to (a)"
   ]
  },
  {
   "cell_type": "code",
   "execution_count": null,
   "id": "2b112b6e",
   "metadata": {},
   "outputs": [],
   "source": [
    "# Create the CNN model\n",
    "def create_model():\n",
    "    model = models.Sequential()\n",
    "\n",
    "    # 5 Convolutional layers with Batch Normalization and MaxPooling\n",
    "    model.add(layers.Conv2D(32, (3, 3), strides=(1, 1), padding='same', activation='relu', input_shape=(28, 28, 1)))\n",
    "    model.add(layers.BatchNormalization())\n",
    "    model.add(layers.MaxPooling2D((2, 2)))\n",
    "\n",
    "    model.add(layers.Conv2D(64, (3, 3), strides=(1, 1), padding='same', activation='relu'))\n",
    "    model.add(layers.BatchNormalization())\n",
    "    model.add(layers.MaxPooling2D((2, 2)))\n",
    "\n",
    "    model.add(layers.Conv2D(128, (3, 3), strides=(1, 1), padding='same', activation='relu'))\n",
    "    model.add(layers.BatchNormalization())\n",
    "\n",
    "\n",
    "    model.add(layers.Conv2D(256, (3, 3), strides=(1, 1), padding='same', activation='relu'))\n",
    "    model.add(layers.BatchNormalization())\n",
    "\n",
    "\n",
    "    model.add(layers.Conv2D(512, (3, 3), strides=(1, 1), padding='same', activation='relu'))\n",
    "    model.add(layers.BatchNormalization())\n",
    "\n",
    "\n",
    "    model.add(layers.Flatten())\n",
    "    model.add(layers.Dense(512, activation='relu'))\n",
    "    model.add(layers.Dropout(0.5))\n",
    "\n",
    "    model.add(layers.Dense(256, activation='relu'))\n",
    "    model.add(layers.Dropout(0.5))\n",
    "    model.add(layers.Dense(10, activation='softmax'))\n",
    "\n",
    "    model.compile(optimizer='adam',\n",
    "                  loss='sparse_categorical_crossentropy',\n",
    "                  metrics=['accuracy'])\n",
    "    return model"
   ]
  },
  {
   "cell_type": "markdown",
   "id": "3a85f2bd",
   "metadata": {},
   "source": [
    "### Performing 5-fold cross validation and calculating the avg accuracy and SD"
   ]
  },
  {
   "cell_type": "code",
   "execution_count": 60,
   "id": "70a6a425",
   "metadata": {},
   "outputs": [
    {
     "name": "stdout",
     "output_type": "stream",
     "text": [
      "Epoch 1/2\n",
      "375/375 [==============================] - 541s 1s/step - loss: 0.7716 - accuracy: 0.7763 - val_loss: 2.4032 - val_accuracy: 0.7273\n",
      "Epoch 2/2\n",
      "375/375 [==============================] - 544s 1s/step - loss: 0.4358 - accuracy: 0.8586 - val_loss: 0.4152 - val_accuracy: 0.8808\n",
      "313/313 - 24s - loss: 0.4192 - accuracy: 0.8776 - 24s/epoch - 77ms/step\n",
      "Epoch 1/2\n",
      "375/375 [==============================] - 2246s 6s/step - loss: 0.8204 - accuracy: 0.7650 - val_loss: 1.6018 - val_accuracy: 0.5418\n",
      "Epoch 2/2\n",
      "375/375 [==============================] - 546s 1s/step - loss: 0.3934 - accuracy: 0.8686 - val_loss: 0.3915 - val_accuracy: 0.8807\n",
      "313/313 - 25s - loss: 0.4187 - accuracy: 0.8776 - 25s/epoch - 80ms/step\n",
      "Epoch 1/2\n",
      "375/375 [==============================] - 532s 1s/step - loss: 0.8341 - accuracy: 0.7590 - val_loss: 56.4212 - val_accuracy: 0.2085\n",
      "Epoch 2/2\n",
      "375/375 [==============================] - 538s 1s/step - loss: 0.4169 - accuracy: 0.8583 - val_loss: 0.3105 - val_accuracy: 0.8914\n",
      "313/313 - 27s - loss: 0.3358 - accuracy: 0.8825 - 27s/epoch - 85ms/step\n",
      "Epoch 1/2\n",
      "375/375 [==============================] - 657s 2s/step - loss: 0.8061 - accuracy: 0.7702 - val_loss: 27.3161 - val_accuracy: 0.2720\n",
      "Epoch 2/2\n",
      "375/375 [==============================] - 1639s 4s/step - loss: 0.3612 - accuracy: 0.8771 - val_loss: 0.3319 - val_accuracy: 0.8896\n",
      "313/313 - 26s - loss: 0.3488 - accuracy: 0.8831 - 26s/epoch - 83ms/step\n",
      "Epoch 1/2\n",
      "375/375 [==============================] - 547s 1s/step - loss: 0.8811 - accuracy: 0.7446 - val_loss: 13.9537 - val_accuracy: 0.5340\n",
      "Epoch 2/2\n",
      "375/375 [==============================] - 606s 2s/step - loss: 0.3876 - accuracy: 0.8678 - val_loss: 0.3160 - val_accuracy: 0.8913\n",
      "313/313 - 26s - loss: 0.3304 - accuracy: 0.8855 - 26s/epoch - 82ms/step\n",
      "Average accuracy: 0.8812600016593933\n",
      "Standard deviation: 0.0031525162292539545\n"
     ]
    }
   ],
   "source": [
    "kfold = KFold(n_splits=5, shuffle=True)\n",
    "accuracies = []\n",
    "\n",
    "for train_index, test_index in kfold.split(train_images):\n",
    "    X_train, X_val = train_images[train_index], train_images[test_index]\n",
    "    y_train, y_val = train_labels[train_index], train_labels[test_index]\n",
    "\n",
    "    model = create_model()\n",
    "    model.fit(X_train, y_train, epochs=2, batch_size=128, validation_data=(X_val, y_val))\n",
    "    _, accuracy = model.evaluate(test_images, test_labels, verbose=2)\n",
    "    accuracies.append(accuracy)\n",
    "\n",
    "# Calculate the average accuracy and standard deviation\n",
    "average_accuracy = np.mean(accuracies)\n",
    "std_deviation = np.std(accuracies)\n",
    "\n",
    "print(\"Average accuracy:\", average_accuracy)\n",
    "print(\"Standard deviation:\", std_deviation)\n"
   ]
  },
  {
   "cell_type": "markdown",
   "id": "41a832dc",
   "metadata": {},
   "source": [
    "### The Average accuracy is: 0.8812600016593933\n",
    "### The Standard deviation is: 0.0031525162292539545"
   ]
  },
  {
   "cell_type": "markdown",
   "id": "9194fa09",
   "metadata": {},
   "source": [
    "#### Model Summary"
   ]
  },
  {
   "cell_type": "code",
   "execution_count": 91,
   "id": "4ba590f4",
   "metadata": {},
   "outputs": [
    {
     "name": "stdout",
     "output_type": "stream",
     "text": [
      "Model: \"sequential_20\"\n",
      "_________________________________________________________________\n",
      " Layer (type)                Output Shape              Param #   \n",
      "=================================================================\n",
      " conv2d_192 (Conv2D)         (None, 28, 28, 32)        320       \n",
      "                                                                 \n",
      " batch_normalization_184 (B  (None, 28, 28, 32)        128       \n",
      " atchNormalization)                                              \n",
      "                                                                 \n",
      " max_pooling2d_48 (MaxPooli  (None, 14, 14, 32)        0         \n",
      " ng2D)                                                           \n",
      "                                                                 \n",
      " conv2d_193 (Conv2D)         (None, 14, 14, 64)        18496     \n",
      "                                                                 \n",
      " batch_normalization_185 (B  (None, 14, 14, 64)        256       \n",
      " atchNormalization)                                              \n",
      "                                                                 \n",
      " max_pooling2d_49 (MaxPooli  (None, 7, 7, 64)          0         \n",
      " ng2D)                                                           \n",
      "                                                                 \n",
      " conv2d_194 (Conv2D)         (None, 7, 7, 128)         73856     \n",
      "                                                                 \n",
      " batch_normalization_186 (B  (None, 7, 7, 128)         512       \n",
      " atchNormalization)                                              \n",
      "                                                                 \n",
      " conv2d_195 (Conv2D)         (None, 7, 7, 256)         295168    \n",
      "                                                                 \n",
      " batch_normalization_187 (B  (None, 7, 7, 256)         1024      \n",
      " atchNormalization)                                              \n",
      "                                                                 \n",
      " conv2d_196 (Conv2D)         (None, 7, 7, 512)         1180160   \n",
      "                                                                 \n",
      " batch_normalization_188 (B  (None, 7, 7, 512)         2048      \n",
      " atchNormalization)                                              \n",
      "                                                                 \n",
      " flatten_20 (Flatten)        (None, 25088)             0         \n",
      "                                                                 \n",
      " dense_70 (Dense)            (None, 256)               6422784   \n",
      "                                                                 \n",
      " dropout_40 (Dropout)        (None, 256)               0         \n",
      "                                                                 \n",
      " dense_71 (Dense)            (None, 128)               32896     \n",
      "                                                                 \n",
      " dropout_41 (Dropout)        (None, 128)               0         \n",
      "                                                                 \n",
      " dense_72 (Dense)            (None, 10)                1290      \n",
      "                                                                 \n",
      "=================================================================\n",
      "Total params: 8028938 (30.63 MB)\n",
      "Trainable params: 8026954 (30.62 MB)\n",
      "Non-trainable params: 1984 (7.75 KB)\n",
      "_________________________________________________________________\n"
     ]
    }
   ],
   "source": [
    "model.summary()"
   ]
  },
  {
   "cell_type": "markdown",
   "id": "82c81b8f",
   "metadata": {},
   "source": [
    "### c. Grid Search\n",
    "Apply grid search on the CNN model to find the optimal set of hyperparameters that produce the max performance on the test data. You must train the model using the training data and evaluate model performance using the test dataset. Use grid search for hyperparameter tuning with the following:"
   ]
  },
  {
   "cell_type": "markdown",
   "id": "f6060c13",
   "metadata": {},
   "source": [
    "### Importing necessary libraries, loading and pre-processing the Fashion MNIST data as in previous steps"
   ]
  },
  {
   "cell_type": "code",
   "execution_count": 94,
   "id": "ad10bc9c",
   "metadata": {},
   "outputs": [],
   "source": [
    "import numpy as np\n",
    "import tensorflow as tf\n",
    "from tensorflow.keras.datasets import fashion_mnist\n",
    "from tensorflow.keras.models import Sequential\n",
    "from tensorflow.keras.layers import Dense, Conv2D, MaxPooling2D, Flatten, Dropout, BatchNormalization, LeakyReLU\n",
    "from tensorflow.keras.optimizers import Adam, Adagrad\n",
    "import itertools\n",
    "\n",
    "# Load the Fashion MNIST data\n",
    "(train_images, train_labels), (test_images, test_labels) = fashion_mnist.load_data()\n",
    "\n",
    "# Preprocess the data\n",
    "train_images = train_images.reshape((60000, 28, 28, 1))\n",
    "train_images = train_images.astype('float32') / 255\n",
    "\n",
    "test_images = test_images.reshape((10000, 28, 28, 1))\n",
    "test_images = test_images.astype('float32') / 255"
   ]
  },
  {
   "cell_type": "markdown",
   "id": "a8387f7d",
   "metadata": {},
   "source": [
    "### Grid search for hyperparameter tuning"
   ]
  },
  {
   "cell_type": "code",
   "execution_count": 95,
   "id": "bfe712e9",
   "metadata": {},
   "outputs": [
    {
     "name": "stderr",
     "output_type": "stream",
     "text": [
      "WARNING:absl:`lr` is deprecated in Keras optimizer, please use `learning_rate` or use the legacy optimizer, e.g.,tf.keras.optimizers.legacy.Adam.\n"
     ]
    },
    {
     "name": "stdout",
     "output_type": "stream",
     "text": [
      "Epoch 1/2\n",
      "3750/3750 [==============================] - 1150s 306ms/step - loss: 1.3809 - accuracy: 0.4916 - val_loss: 0.9565 - val_accuracy: 0.5715\n",
      "Epoch 2/2\n",
      "3750/3750 [==============================] - 1001s 267ms/step - loss: 0.9276 - accuracy: 0.6047 - val_loss: 0.7559 - val_accuracy: 0.7188\n",
      "313/313 [==============================] - 27s 85ms/step - loss: 0.7559 - accuracy: 0.7188\n"
     ]
    },
    {
     "name": "stderr",
     "output_type": "stream",
     "text": [
      "WARNING:absl:`lr` is deprecated in Keras optimizer, please use `learning_rate` or use the legacy optimizer, e.g.,tf.keras.optimizers.legacy.Adam.\n"
     ]
    },
    {
     "name": "stdout",
     "output_type": "stream",
     "text": [
      "Epoch 1/2\n",
      "3750/3750 [==============================] - 994s 264ms/step - loss: 1.5460 - accuracy: 0.4196 - val_loss: 1.2007 - val_accuracy: 0.4715\n",
      "Epoch 2/2\n",
      "3750/3750 [==============================] - 984s 262ms/step - loss: 1.2218 - accuracy: 0.4703 - val_loss: 1.1574 - val_accuracy: 0.4794\n",
      "313/313 [==============================] - 26s 83ms/step - loss: 1.1574 - accuracy: 0.4794\n"
     ]
    },
    {
     "name": "stderr",
     "output_type": "stream",
     "text": [
      "WARNING:absl:`lr` is deprecated in Keras optimizer, please use `learning_rate` or use the legacy optimizer, e.g.,tf.keras.optimizers.legacy.Adam.\n"
     ]
    },
    {
     "name": "stdout",
     "output_type": "stream",
     "text": [
      "Epoch 1/2\n",
      "3750/3750 [==============================] - 1071s 285ms/step - loss: 1.3469 - accuracy: 0.5252 - val_loss: 0.9116 - val_accuracy: 0.6626\n",
      "Epoch 2/2\n",
      "3750/3750 [==============================] - 1006s 268ms/step - loss: 0.8234 - accuracy: 0.6631 - val_loss: 0.5968 - val_accuracy: 0.7521\n",
      "313/313 [==============================] - 27s 85ms/step - loss: 0.5969 - accuracy: 0.7521\n"
     ]
    },
    {
     "name": "stderr",
     "output_type": "stream",
     "text": [
      "WARNING:absl:`lr` is deprecated in Keras optimizer, please use `learning_rate` or use the legacy optimizer, e.g.,tf.keras.optimizers.legacy.Adam.\n"
     ]
    },
    {
     "name": "stdout",
     "output_type": "stream",
     "text": [
      "Epoch 1/2\n",
      "1875/1875 [==============================] - 778s 412ms/step - loss: 1.1834 - accuracy: 0.5872 - val_loss: 0.7646 - val_accuracy: 0.6725\n",
      "Epoch 2/2\n",
      "1875/1875 [==============================] - 802s 428ms/step - loss: 0.7314 - accuracy: 0.7038 - val_loss: 0.5663 - val_accuracy: 0.7659\n",
      "313/313 [==============================] - 26s 85ms/step - loss: 0.5663 - accuracy: 0.7659\n"
     ]
    },
    {
     "name": "stderr",
     "output_type": "stream",
     "text": [
      "WARNING:absl:`lr` is deprecated in Keras optimizer, please use `learning_rate` or use the legacy optimizer, e.g.,tf.keras.optimizers.legacy.Adam.\n"
     ]
    },
    {
     "name": "stdout",
     "output_type": "stream",
     "text": [
      "Epoch 1/2\n",
      "  18/1875 [..............................] - ETA: 13:28 - loss: 5.0094 - accuracy: 0.3438"
     ]
    },
    {
     "ename": "KeyboardInterrupt",
     "evalue": "",
     "output_type": "error",
     "traceback": [
      "\u001b[0;31m---------------------------------------------------------------------------\u001b[0m",
      "\u001b[0;31mKeyboardInterrupt\u001b[0m                         Traceback (most recent call last)",
      "Cell \u001b[0;32mIn[95], line 48\u001b[0m\n\u001b[1;32m     43\u001b[0m model\u001b[38;5;241m.\u001b[39mcompile(optimizer\u001b[38;5;241m=\u001b[39moptimizer(lr\u001b[38;5;241m=\u001b[39mlr),\n\u001b[1;32m     44\u001b[0m               loss\u001b[38;5;241m=\u001b[39m\u001b[38;5;124m'\u001b[39m\u001b[38;5;124msparse_categorical_crossentropy\u001b[39m\u001b[38;5;124m'\u001b[39m,\n\u001b[1;32m     45\u001b[0m               metrics\u001b[38;5;241m=\u001b[39m[\u001b[38;5;124m'\u001b[39m\u001b[38;5;124maccuracy\u001b[39m\u001b[38;5;124m'\u001b[39m])\n\u001b[1;32m     47\u001b[0m \u001b[38;5;66;03m# Train the model for 2 epochs and validate it on the test data.\u001b[39;00m\n\u001b[0;32m---> 48\u001b[0m history \u001b[38;5;241m=\u001b[39m model\u001b[38;5;241m.\u001b[39mfit(train_images, train_labels, epochs\u001b[38;5;241m=\u001b[39m\u001b[38;5;241m2\u001b[39m, batch_size\u001b[38;5;241m=\u001b[39mbatch_size, validation_data\u001b[38;5;241m=\u001b[39m(test_images, test_labels))\n\u001b[1;32m     49\u001b[0m _, test_accuracy \u001b[38;5;241m=\u001b[39m model\u001b[38;5;241m.\u001b[39mevaluate(test_images, test_labels)\n\u001b[1;32m     51\u001b[0m \u001b[38;5;66;03m# Store the test accuracy in the results dictionary with corresponding hyperparameter settings as the key.\u001b[39;00m\n",
      "File \u001b[0;32m~/anaconda3/lib/python3.11/site-packages/keras/src/utils/traceback_utils.py:65\u001b[0m, in \u001b[0;36mfilter_traceback.<locals>.error_handler\u001b[0;34m(*args, **kwargs)\u001b[0m\n\u001b[1;32m     63\u001b[0m filtered_tb \u001b[38;5;241m=\u001b[39m \u001b[38;5;28;01mNone\u001b[39;00m\n\u001b[1;32m     64\u001b[0m \u001b[38;5;28;01mtry\u001b[39;00m:\n\u001b[0;32m---> 65\u001b[0m     \u001b[38;5;28;01mreturn\u001b[39;00m fn(\u001b[38;5;241m*\u001b[39margs, \u001b[38;5;241m*\u001b[39m\u001b[38;5;241m*\u001b[39mkwargs)\n\u001b[1;32m     66\u001b[0m \u001b[38;5;28;01mexcept\u001b[39;00m \u001b[38;5;167;01mException\u001b[39;00m \u001b[38;5;28;01mas\u001b[39;00m e:\n\u001b[1;32m     67\u001b[0m     filtered_tb \u001b[38;5;241m=\u001b[39m _process_traceback_frames(e\u001b[38;5;241m.\u001b[39m__traceback__)\n",
      "File \u001b[0;32m~/anaconda3/lib/python3.11/site-packages/keras/src/engine/training.py:1742\u001b[0m, in \u001b[0;36mModel.fit\u001b[0;34m(self, x, y, batch_size, epochs, verbose, callbacks, validation_split, validation_data, shuffle, class_weight, sample_weight, initial_epoch, steps_per_epoch, validation_steps, validation_batch_size, validation_freq, max_queue_size, workers, use_multiprocessing)\u001b[0m\n\u001b[1;32m   1734\u001b[0m \u001b[38;5;28;01mwith\u001b[39;00m tf\u001b[38;5;241m.\u001b[39mprofiler\u001b[38;5;241m.\u001b[39mexperimental\u001b[38;5;241m.\u001b[39mTrace(\n\u001b[1;32m   1735\u001b[0m     \u001b[38;5;124m\"\u001b[39m\u001b[38;5;124mtrain\u001b[39m\u001b[38;5;124m\"\u001b[39m,\n\u001b[1;32m   1736\u001b[0m     epoch_num\u001b[38;5;241m=\u001b[39mepoch,\n\u001b[0;32m   (...)\u001b[0m\n\u001b[1;32m   1739\u001b[0m     _r\u001b[38;5;241m=\u001b[39m\u001b[38;5;241m1\u001b[39m,\n\u001b[1;32m   1740\u001b[0m ):\n\u001b[1;32m   1741\u001b[0m     callbacks\u001b[38;5;241m.\u001b[39mon_train_batch_begin(step)\n\u001b[0;32m-> 1742\u001b[0m     tmp_logs \u001b[38;5;241m=\u001b[39m \u001b[38;5;28mself\u001b[39m\u001b[38;5;241m.\u001b[39mtrain_function(iterator)\n\u001b[1;32m   1743\u001b[0m     \u001b[38;5;28;01mif\u001b[39;00m data_handler\u001b[38;5;241m.\u001b[39mshould_sync:\n\u001b[1;32m   1744\u001b[0m         context\u001b[38;5;241m.\u001b[39masync_wait()\n",
      "File \u001b[0;32m~/anaconda3/lib/python3.11/site-packages/tensorflow/python/util/traceback_utils.py:150\u001b[0m, in \u001b[0;36mfilter_traceback.<locals>.error_handler\u001b[0;34m(*args, **kwargs)\u001b[0m\n\u001b[1;32m    148\u001b[0m filtered_tb \u001b[38;5;241m=\u001b[39m \u001b[38;5;28;01mNone\u001b[39;00m\n\u001b[1;32m    149\u001b[0m \u001b[38;5;28;01mtry\u001b[39;00m:\n\u001b[0;32m--> 150\u001b[0m   \u001b[38;5;28;01mreturn\u001b[39;00m fn(\u001b[38;5;241m*\u001b[39margs, \u001b[38;5;241m*\u001b[39m\u001b[38;5;241m*\u001b[39mkwargs)\n\u001b[1;32m    151\u001b[0m \u001b[38;5;28;01mexcept\u001b[39;00m \u001b[38;5;167;01mException\u001b[39;00m \u001b[38;5;28;01mas\u001b[39;00m e:\n\u001b[1;32m    152\u001b[0m   filtered_tb \u001b[38;5;241m=\u001b[39m _process_traceback_frames(e\u001b[38;5;241m.\u001b[39m__traceback__)\n",
      "File \u001b[0;32m~/anaconda3/lib/python3.11/site-packages/tensorflow/python/eager/polymorphic_function/polymorphic_function.py:825\u001b[0m, in \u001b[0;36mFunction.__call__\u001b[0;34m(self, *args, **kwds)\u001b[0m\n\u001b[1;32m    822\u001b[0m compiler \u001b[38;5;241m=\u001b[39m \u001b[38;5;124m\"\u001b[39m\u001b[38;5;124mxla\u001b[39m\u001b[38;5;124m\"\u001b[39m \u001b[38;5;28;01mif\u001b[39;00m \u001b[38;5;28mself\u001b[39m\u001b[38;5;241m.\u001b[39m_jit_compile \u001b[38;5;28;01melse\u001b[39;00m \u001b[38;5;124m\"\u001b[39m\u001b[38;5;124mnonXla\u001b[39m\u001b[38;5;124m\"\u001b[39m\n\u001b[1;32m    824\u001b[0m \u001b[38;5;28;01mwith\u001b[39;00m OptionalXlaContext(\u001b[38;5;28mself\u001b[39m\u001b[38;5;241m.\u001b[39m_jit_compile):\n\u001b[0;32m--> 825\u001b[0m   result \u001b[38;5;241m=\u001b[39m \u001b[38;5;28mself\u001b[39m\u001b[38;5;241m.\u001b[39m_call(\u001b[38;5;241m*\u001b[39margs, \u001b[38;5;241m*\u001b[39m\u001b[38;5;241m*\u001b[39mkwds)\n\u001b[1;32m    827\u001b[0m new_tracing_count \u001b[38;5;241m=\u001b[39m \u001b[38;5;28mself\u001b[39m\u001b[38;5;241m.\u001b[39mexperimental_get_tracing_count()\n\u001b[1;32m    828\u001b[0m without_tracing \u001b[38;5;241m=\u001b[39m (tracing_count \u001b[38;5;241m==\u001b[39m new_tracing_count)\n",
      "File \u001b[0;32m~/anaconda3/lib/python3.11/site-packages/tensorflow/python/eager/polymorphic_function/polymorphic_function.py:857\u001b[0m, in \u001b[0;36mFunction._call\u001b[0;34m(self, *args, **kwds)\u001b[0m\n\u001b[1;32m    854\u001b[0m   \u001b[38;5;28mself\u001b[39m\u001b[38;5;241m.\u001b[39m_lock\u001b[38;5;241m.\u001b[39mrelease()\n\u001b[1;32m    855\u001b[0m   \u001b[38;5;66;03m# In this case we have created variables on the first call, so we run the\u001b[39;00m\n\u001b[1;32m    856\u001b[0m   \u001b[38;5;66;03m# defunned version which is guaranteed to never create variables.\u001b[39;00m\n\u001b[0;32m--> 857\u001b[0m   \u001b[38;5;28;01mreturn\u001b[39;00m \u001b[38;5;28mself\u001b[39m\u001b[38;5;241m.\u001b[39m_no_variable_creation_fn(\u001b[38;5;241m*\u001b[39margs, \u001b[38;5;241m*\u001b[39m\u001b[38;5;241m*\u001b[39mkwds)  \u001b[38;5;66;03m# pylint: disable=not-callable\u001b[39;00m\n\u001b[1;32m    858\u001b[0m \u001b[38;5;28;01melif\u001b[39;00m \u001b[38;5;28mself\u001b[39m\u001b[38;5;241m.\u001b[39m_variable_creation_fn \u001b[38;5;129;01mis\u001b[39;00m \u001b[38;5;129;01mnot\u001b[39;00m \u001b[38;5;28;01mNone\u001b[39;00m:\n\u001b[1;32m    859\u001b[0m   \u001b[38;5;66;03m# Release the lock early so that multiple threads can perform the call\u001b[39;00m\n\u001b[1;32m    860\u001b[0m   \u001b[38;5;66;03m# in parallel.\u001b[39;00m\n\u001b[1;32m    861\u001b[0m   \u001b[38;5;28mself\u001b[39m\u001b[38;5;241m.\u001b[39m_lock\u001b[38;5;241m.\u001b[39mrelease()\n",
      "File \u001b[0;32m~/anaconda3/lib/python3.11/site-packages/tensorflow/python/eager/polymorphic_function/tracing_compiler.py:148\u001b[0m, in \u001b[0;36mTracingCompiler.__call__\u001b[0;34m(self, *args, **kwargs)\u001b[0m\n\u001b[1;32m    145\u001b[0m \u001b[38;5;28;01mwith\u001b[39;00m \u001b[38;5;28mself\u001b[39m\u001b[38;5;241m.\u001b[39m_lock:\n\u001b[1;32m    146\u001b[0m   (concrete_function,\n\u001b[1;32m    147\u001b[0m    filtered_flat_args) \u001b[38;5;241m=\u001b[39m \u001b[38;5;28mself\u001b[39m\u001b[38;5;241m.\u001b[39m_maybe_define_function(args, kwargs)\n\u001b[0;32m--> 148\u001b[0m \u001b[38;5;28;01mreturn\u001b[39;00m concrete_function\u001b[38;5;241m.\u001b[39m_call_flat(\n\u001b[1;32m    149\u001b[0m     filtered_flat_args, captured_inputs\u001b[38;5;241m=\u001b[39mconcrete_function\u001b[38;5;241m.\u001b[39mcaptured_inputs)\n",
      "File \u001b[0;32m~/anaconda3/lib/python3.11/site-packages/tensorflow/python/eager/polymorphic_function/monomorphic_function.py:1349\u001b[0m, in \u001b[0;36mConcreteFunction._call_flat\u001b[0;34m(self, args, captured_inputs)\u001b[0m\n\u001b[1;32m   1345\u001b[0m possible_gradient_type \u001b[38;5;241m=\u001b[39m gradients_util\u001b[38;5;241m.\u001b[39mPossibleTapeGradientTypes(args)\n\u001b[1;32m   1346\u001b[0m \u001b[38;5;28;01mif\u001b[39;00m (possible_gradient_type \u001b[38;5;241m==\u001b[39m gradients_util\u001b[38;5;241m.\u001b[39mPOSSIBLE_GRADIENT_TYPES_NONE\n\u001b[1;32m   1347\u001b[0m     \u001b[38;5;129;01mand\u001b[39;00m executing_eagerly):\n\u001b[1;32m   1348\u001b[0m   \u001b[38;5;66;03m# No tape is watching; skip to running the function.\u001b[39;00m\n\u001b[0;32m-> 1349\u001b[0m   \u001b[38;5;28;01mreturn\u001b[39;00m \u001b[38;5;28mself\u001b[39m\u001b[38;5;241m.\u001b[39m_build_call_outputs(\u001b[38;5;28mself\u001b[39m\u001b[38;5;241m.\u001b[39m_inference_function(\u001b[38;5;241m*\u001b[39margs))\n\u001b[1;32m   1350\u001b[0m forward_backward \u001b[38;5;241m=\u001b[39m \u001b[38;5;28mself\u001b[39m\u001b[38;5;241m.\u001b[39m_select_forward_and_backward_functions(\n\u001b[1;32m   1351\u001b[0m     args,\n\u001b[1;32m   1352\u001b[0m     possible_gradient_type,\n\u001b[1;32m   1353\u001b[0m     executing_eagerly)\n\u001b[1;32m   1354\u001b[0m forward_function, args_with_tangents \u001b[38;5;241m=\u001b[39m forward_backward\u001b[38;5;241m.\u001b[39mforward()\n",
      "File \u001b[0;32m~/anaconda3/lib/python3.11/site-packages/tensorflow/python/eager/polymorphic_function/atomic_function.py:196\u001b[0m, in \u001b[0;36mAtomicFunction.__call__\u001b[0;34m(self, *args)\u001b[0m\n\u001b[1;32m    194\u001b[0m \u001b[38;5;28;01mwith\u001b[39;00m record\u001b[38;5;241m.\u001b[39mstop_recording():\n\u001b[1;32m    195\u001b[0m   \u001b[38;5;28;01mif\u001b[39;00m \u001b[38;5;28mself\u001b[39m\u001b[38;5;241m.\u001b[39m_bound_context\u001b[38;5;241m.\u001b[39mexecuting_eagerly():\n\u001b[0;32m--> 196\u001b[0m     outputs \u001b[38;5;241m=\u001b[39m \u001b[38;5;28mself\u001b[39m\u001b[38;5;241m.\u001b[39m_bound_context\u001b[38;5;241m.\u001b[39mcall_function(\n\u001b[1;32m    197\u001b[0m         \u001b[38;5;28mself\u001b[39m\u001b[38;5;241m.\u001b[39mname,\n\u001b[1;32m    198\u001b[0m         \u001b[38;5;28mlist\u001b[39m(args),\n\u001b[1;32m    199\u001b[0m         \u001b[38;5;28mlen\u001b[39m(\u001b[38;5;28mself\u001b[39m\u001b[38;5;241m.\u001b[39mfunction_type\u001b[38;5;241m.\u001b[39mflat_outputs),\n\u001b[1;32m    200\u001b[0m     )\n\u001b[1;32m    201\u001b[0m   \u001b[38;5;28;01melse\u001b[39;00m:\n\u001b[1;32m    202\u001b[0m     outputs \u001b[38;5;241m=\u001b[39m make_call_op_in_graph(\u001b[38;5;28mself\u001b[39m, \u001b[38;5;28mlist\u001b[39m(args))\n",
      "File \u001b[0;32m~/anaconda3/lib/python3.11/site-packages/tensorflow/python/eager/context.py:1457\u001b[0m, in \u001b[0;36mContext.call_function\u001b[0;34m(self, name, tensor_inputs, num_outputs)\u001b[0m\n\u001b[1;32m   1455\u001b[0m cancellation_context \u001b[38;5;241m=\u001b[39m cancellation\u001b[38;5;241m.\u001b[39mcontext()\n\u001b[1;32m   1456\u001b[0m \u001b[38;5;28;01mif\u001b[39;00m cancellation_context \u001b[38;5;129;01mis\u001b[39;00m \u001b[38;5;28;01mNone\u001b[39;00m:\n\u001b[0;32m-> 1457\u001b[0m   outputs \u001b[38;5;241m=\u001b[39m execute\u001b[38;5;241m.\u001b[39mexecute(\n\u001b[1;32m   1458\u001b[0m       name\u001b[38;5;241m.\u001b[39mdecode(\u001b[38;5;124m\"\u001b[39m\u001b[38;5;124mutf-8\u001b[39m\u001b[38;5;124m\"\u001b[39m),\n\u001b[1;32m   1459\u001b[0m       num_outputs\u001b[38;5;241m=\u001b[39mnum_outputs,\n\u001b[1;32m   1460\u001b[0m       inputs\u001b[38;5;241m=\u001b[39mtensor_inputs,\n\u001b[1;32m   1461\u001b[0m       attrs\u001b[38;5;241m=\u001b[39mattrs,\n\u001b[1;32m   1462\u001b[0m       ctx\u001b[38;5;241m=\u001b[39m\u001b[38;5;28mself\u001b[39m,\n\u001b[1;32m   1463\u001b[0m   )\n\u001b[1;32m   1464\u001b[0m \u001b[38;5;28;01melse\u001b[39;00m:\n\u001b[1;32m   1465\u001b[0m   outputs \u001b[38;5;241m=\u001b[39m execute\u001b[38;5;241m.\u001b[39mexecute_with_cancellation(\n\u001b[1;32m   1466\u001b[0m       name\u001b[38;5;241m.\u001b[39mdecode(\u001b[38;5;124m\"\u001b[39m\u001b[38;5;124mutf-8\u001b[39m\u001b[38;5;124m\"\u001b[39m),\n\u001b[1;32m   1467\u001b[0m       num_outputs\u001b[38;5;241m=\u001b[39mnum_outputs,\n\u001b[0;32m   (...)\u001b[0m\n\u001b[1;32m   1471\u001b[0m       cancellation_manager\u001b[38;5;241m=\u001b[39mcancellation_context,\n\u001b[1;32m   1472\u001b[0m   )\n",
      "File \u001b[0;32m~/anaconda3/lib/python3.11/site-packages/tensorflow/python/eager/execute.py:53\u001b[0m, in \u001b[0;36mquick_execute\u001b[0;34m(op_name, num_outputs, inputs, attrs, ctx, name)\u001b[0m\n\u001b[1;32m     51\u001b[0m \u001b[38;5;28;01mtry\u001b[39;00m:\n\u001b[1;32m     52\u001b[0m   ctx\u001b[38;5;241m.\u001b[39mensure_initialized()\n\u001b[0;32m---> 53\u001b[0m   tensors \u001b[38;5;241m=\u001b[39m pywrap_tfe\u001b[38;5;241m.\u001b[39mTFE_Py_Execute(ctx\u001b[38;5;241m.\u001b[39m_handle, device_name, op_name,\n\u001b[1;32m     54\u001b[0m                                       inputs, attrs, num_outputs)\n\u001b[1;32m     55\u001b[0m \u001b[38;5;28;01mexcept\u001b[39;00m core\u001b[38;5;241m.\u001b[39m_NotOkStatusException \u001b[38;5;28;01mas\u001b[39;00m e:\n\u001b[1;32m     56\u001b[0m   \u001b[38;5;28;01mif\u001b[39;00m name \u001b[38;5;129;01mis\u001b[39;00m \u001b[38;5;129;01mnot\u001b[39;00m \u001b[38;5;28;01mNone\u001b[39;00m:\n",
      "\u001b[0;31mKeyboardInterrupt\u001b[0m: "
     ]
    }
   ],
   "source": [
    "activation_functions = [tf.nn.relu, LeakyReLU(alpha=0.3)]  # Define activation functions: ReLU and Leaky ReLU.\n",
    "optimizers = [Adam, Adagrad]  # Define optimizers: Adam and Adagrad.\n",
    "batch_sizes = [16, 32, 64]  # Define batch sizes to be used during training.\n",
    "learning_rates = [0.001, 0.0001, 0.00001]  # Define learning rates for the optimizers.\n",
    "\n",
    "\n",
    "results = {} # Initialize an empty dictionary to store the results of the experiments.\n",
    "\n",
    "# Iterate through all combinations of activation functions, optimizers, batch sizes, and learning rates.\n",
    "for activation, optimizer, batch_size, lr in itertools.product(activation_functions, optimizers, batch_sizes, learning_rates):\n",
    "    model = Sequential()\n",
    "    \n",
    "    # 5 CNN Layers\n",
    "    model.add(Conv2D(32, (3, 3), strides=(1, 1), padding='same', activation='relu', input_shape=(28, 28, 1)))\n",
    "    model.add(BatchNormalization())\n",
    "    model.add(MaxPooling2D((2, 2)))\n",
    "    \n",
    "    model.add(Conv2D(64, (3, 3), strides=(1, 1), padding='same', activation='relu'))\n",
    "    model.add(BatchNormalization())\n",
    "    model.add(MaxPooling2D((2, 2)))\n",
    "    \n",
    "    model.add(Conv2D(128, (3, 3), strides=(1, 1), padding='same', activation='relu'))\n",
    "    model.add(BatchNormalization())\n",
    "    \n",
    "    \n",
    "    model.add(Conv2D(256, (3, 3), strides=(1, 1), padding='same', activation='relu'))\n",
    "    model.add(BatchNormalization())\n",
    "    \n",
    "    \n",
    "    model.add(Conv2D(512, (3, 3), strides=(1, 1), padding='same', activation='relu'))\n",
    "    model.add(BatchNormalization())\n",
    "    \n",
    "    model.add(Flatten())\n",
    "    model.add(Dense(256, activation=activation))\n",
    "    model.add(Dropout(0.5))\n",
    "    \n",
    "    model.add(Dense(128, activation=activation))\n",
    "    model.add(Dropout(0.5))\n",
    "    \n",
    "    model.add(Dense(10, activation='softmax'))\n",
    "\n",
    "    # Compile the model with the selected optimizer, loss function, and metrics.\n",
    "    model.compile(optimizer=optimizer(lr=lr),\n",
    "                  loss='sparse_categorical_crossentropy',\n",
    "                  metrics=['accuracy'])\n",
    "    \n",
    "    # Train the model for 2 epochs and validate it on the test data.\n",
    "    history = model.fit(train_images, train_labels, epochs=2, batch_size=batch_size, validation_data=(test_images, test_labels))\n",
    "    _, test_accuracy = model.evaluate(test_images, test_labels)\n",
    "    \n",
    "    # Store the test accuracy in the results dictionary with corresponding hyperparameter settings as the key.\n",
    "    results[(activation.__name__, optimizer.__name__, batch_size, lr)] = test_accuracy"
   ]
  },
  {
   "cell_type": "markdown",
   "id": "0d329d75",
   "metadata": {},
   "source": [
    "### Finding the optimal hyperparameters"
   ]
  },
  {
   "cell_type": "code",
   "execution_count": 96,
   "id": "c2bd6ea9",
   "metadata": {},
   "outputs": [],
   "source": [
    "optimal_hyperparameters = max(results, key=results.get)\n",
    "max_accuracy = results[optimal_hyperparameters]"
   ]
  },
  {
   "cell_type": "markdown",
   "id": "b75a158a",
   "metadata": {},
   "source": [
    "### Results"
   ]
  },
  {
   "cell_type": "code",
   "execution_count": 97,
   "id": "ed3ed14d",
   "metadata": {},
   "outputs": [
    {
     "name": "stdout",
     "output_type": "stream",
     "text": [
      "\n",
      "Hyperparameter Combinations and Test Accuracies:\n",
      "('relu', 'Adam', 16, 0.001) 0.7188000082969666\n",
      "('relu', 'Adam', 16, 0.0001) 0.47940000891685486\n",
      "('relu', 'Adam', 16, 1e-05) 0.7520999908447266\n",
      "('relu', 'Adam', 32, 0.001) 0.7659000158309937\n",
      "\n",
      "Optimal Hyperparameters:\n",
      "('relu', 'Adam', 32, 0.001) with Test Accuracy: 0.7659000158309937\n"
     ]
    }
   ],
   "source": [
    "print(\"\\nHyperparameter Combinations and Test Accuracies:\")\n",
    "for hyperparameters, accuracy in results.items():\n",
    "    print(f\"{hyperparameters} {accuracy}\")\n",
    "\n",
    "print(\"\\nOptimal Hyperparameters:\")\n",
    "print(f\"{optimal_hyperparameters} with Test Accuracy: {max_accuracy}\")"
   ]
  },
  {
   "cell_type": "code",
   "execution_count": 98,
   "id": "9268dadc",
   "metadata": {},
   "outputs": [
    {
     "name": "stdout",
     "output_type": "stream",
     "text": [
      "Model: \"sequential_25\"\n",
      "_________________________________________________________________\n",
      " Layer (type)                Output Shape              Param #   \n",
      "=================================================================\n",
      " conv2d_217 (Conv2D)         (None, 28, 28, 32)        320       \n",
      "                                                                 \n",
      " batch_normalization_209 (B  (None, 28, 28, 32)        128       \n",
      " atchNormalization)                                              \n",
      "                                                                 \n",
      " max_pooling2d_58 (MaxPooli  (None, 14, 14, 32)        0         \n",
      " ng2D)                                                           \n",
      "                                                                 \n",
      " conv2d_218 (Conv2D)         (None, 14, 14, 64)        18496     \n",
      "                                                                 \n",
      " batch_normalization_210 (B  (None, 14, 14, 64)        256       \n",
      " atchNormalization)                                              \n",
      "                                                                 \n",
      " max_pooling2d_59 (MaxPooli  (None, 7, 7, 64)          0         \n",
      " ng2D)                                                           \n",
      "                                                                 \n",
      " conv2d_219 (Conv2D)         (None, 7, 7, 128)         73856     \n",
      "                                                                 \n",
      " batch_normalization_211 (B  (None, 7, 7, 128)         512       \n",
      " atchNormalization)                                              \n",
      "                                                                 \n",
      " conv2d_220 (Conv2D)         (None, 7, 7, 256)         295168    \n",
      "                                                                 \n",
      " batch_normalization_212 (B  (None, 7, 7, 256)         1024      \n",
      " atchNormalization)                                              \n",
      "                                                                 \n",
      " conv2d_221 (Conv2D)         (None, 7, 7, 512)         1180160   \n",
      "                                                                 \n",
      " batch_normalization_213 (B  (None, 7, 7, 512)         2048      \n",
      " atchNormalization)                                              \n",
      "                                                                 \n",
      " flatten_25 (Flatten)        (None, 25088)             0         \n",
      "                                                                 \n",
      " dense_85 (Dense)            (None, 256)               6422784   \n",
      "                                                                 \n",
      " dropout_50 (Dropout)        (None, 256)               0         \n",
      "                                                                 \n",
      " dense_86 (Dense)            (None, 128)               32896     \n",
      "                                                                 \n",
      " dropout_51 (Dropout)        (None, 128)               0         \n",
      "                                                                 \n",
      " dense_87 (Dense)            (None, 10)                1290      \n",
      "                                                                 \n",
      "=================================================================\n",
      "Total params: 8028938 (30.63 MB)\n",
      "Trainable params: 8026954 (30.62 MB)\n",
      "Non-trainable params: 1984 (7.75 KB)\n",
      "_________________________________________________________________\n"
     ]
    }
   ],
   "source": [
    "model.summary()"
   ]
  },
  {
   "cell_type": "markdown",
   "id": "0f6ff39e",
   "metadata": {},
   "source": [
    "### d. Data Augmentation\n",
    "Apply five different image augmentation techniques on the Fashion Mnist train data to augment it and then apply the previously designed (from a) model on it."
   ]
  },
  {
   "cell_type": "markdown",
   "id": "550a978b",
   "metadata": {},
   "source": [
    "#### Necessary imports, loading the Fashion MNIST data and Pre-proccessing it, similarly as done for above models"
   ]
  },
  {
   "cell_type": "code",
   "execution_count": 7,
   "id": "b19f5cac",
   "metadata": {},
   "outputs": [],
   "source": [
    "import numpy as np\n",
    "import tensorflow as tf\n",
    "from tensorflow.keras.datasets import fashion_mnist\n",
    "from tensorflow.keras.models import Sequential\n",
    "from tensorflow.keras.layers import Conv2D, MaxPooling2D, Dense, Flatten, BatchNormalization, Dropout\n",
    "from tensorflow.keras.optimizers import Adam\n",
    "from tensorflow.keras.preprocessing.image import ImageDataGenerator\n",
    "from tensorflow.keras import datasets, layers, models\n",
    "\n",
    "# Load Fashion MNIST data\n",
    "(x_train, y_train), (x_test, y_test) = fashion_mnist.load_data()\n",
    "\n",
    "# Data preprocessing\n",
    "x_train = x_train.reshape(x_train.shape[0], 28, 28, 1) / 255.0\n",
    "x_test = x_test.reshape(x_test.shape[0], 28, 28, 1) / 255.0"
   ]
  },
  {
   "cell_type": "markdown",
   "id": "3deea873",
   "metadata": {},
   "source": [
    "#### Image data augmentation"
   ]
  },
  {
   "cell_type": "code",
   "execution_count": null,
   "id": "81ce4e42",
   "metadata": {},
   "outputs": [],
   "source": [
    "# Transformations applied to the input images during data augmentation\n",
    "datagen = ImageDataGenerator(\n",
    "    rotation_range=10,\n",
    "    width_shift_range=0.1,\n",
    "    height_shift_range=0.1,\n",
    "    shear_range=0.2,\n",
    "    zoom_range=0.2,\n",
    "    horizontal_flip=True\n",
    ")"
   ]
  },
  {
   "cell_type": "code",
   "execution_count": null,
   "id": "7ff0fbcb",
   "metadata": {},
   "outputs": [],
   "source": [
    "# Fit the data augmentation generator\n",
    "datagen.fit(x_train)"
   ]
  },
  {
   "cell_type": "markdown",
   "id": "2b41942b",
   "metadata": {},
   "source": [
    "### Define the CNN model similar to (a)"
   ]
  },
  {
   "cell_type": "code",
   "execution_count": null,
   "id": "fe7d2950",
   "metadata": {},
   "outputs": [],
   "source": [
    "model = models.Sequential()\n",
    "\n",
    "# Convolutional layer 1 with 16 filters\n",
    "model.add(layers.Conv2D(16, (3, 3), strides=(1, 1), padding='same', activation='relu', input_shape=(28, 28, 1)))\n",
    "model.add(layers.BatchNormalization())\n",
    "model.add(layers.MaxPooling2D((2, 2)))"
   ]
  },
  {
   "cell_type": "code",
   "execution_count": 8,
   "id": "d6dfbfaa",
   "metadata": {},
   "outputs": [],
   "source": [
    "# Convolutional layer 2 with 32 filters\n",
    "model.add(layers.Conv2D(32, (3, 3), strides=(1, 1), padding='same', activation='relu'))\n",
    "model.add(layers.BatchNormalization())\n",
    "model.add(layers.MaxPooling2D((2, 2)))\n",
    "\n",
    "# Convolutional layer 3 with 64 filters\n",
    "model.add(layers.Conv2D(64, (3, 3), strides=(1, 1), padding='same', activation='relu'))\n",
    "model.add(layers.BatchNormalization())\n",
    "\n",
    "# Convolutional layer 4 with 128 filters\n",
    "model.add(layers.Conv2D(128, (3, 3), strides=(1, 1), padding='same', activation='relu'))\n",
    "model.add(layers.BatchNormalization())\n",
    "\n",
    "# Convolutional layer 5 with 256 filters\n",
    "model.add(layers.Conv2D(256, (3, 3), strides=(1, 1), padding='same', activation='relu'))\n",
    "model.add(layers.BatchNormalization())\n",
    "\n",
    "\n",
    "model.add(layers.Flatten())\n",
    "model.add(layers.Dense(256, activation='relu'))\n",
    "\n",
    "model.add(layers.Dropout(0.5))\n",
    "model.add(layers.Dense(128, activation='relu'))\n",
    "\n",
    "model.add(layers.Dropout(0.5))\n",
    "model.add(layers.Dense(10, activation='softmax'))\n"
   ]
  },
  {
   "cell_type": "code",
   "execution_count": 9,
   "id": "a36e0dfe",
   "metadata": {},
   "outputs": [
    {
     "name": "stdout",
     "output_type": "stream",
     "text": [
      "Epoch 1/2\n",
      "1875/1875 [==============================] - 328s 173ms/step - loss: 1.1491 - accuracy: 0.6017\n",
      "Epoch 2/2\n",
      "1875/1875 [==============================] - 290s 155ms/step - loss: 0.7484 - accuracy: 0.7026\n",
      "Test Accuracy: 0.7563999891281128\n"
     ]
    }
   ],
   "source": [
    "# Compile the model\n",
    "model.compile(optimizer=Adam(learning_rate=0.001), loss='sparse_categorical_crossentropy', metrics=['accuracy'])\n",
    "\n",
    "# Fit the model using augmented data\n",
    "model.fit(datagen.flow(x_train, y_train, batch_size=32), steps_per_epoch=len(x_train) / 32, epochs=2)\n",
    "\n",
    "# Evaluate the model\n",
    "_, accuracy = model.evaluate(x_test, y_test, verbose=0)\n",
    "\n",
    "# Print the test accuracy\n",
    "print(f\"Test Accuracy: {accuracy}\")"
   ]
  },
  {
   "cell_type": "markdown",
   "id": "77dd8a47",
   "metadata": {},
   "source": [
    "### Evaluation results: 0.7563999891281128"
   ]
  },
  {
   "cell_type": "code",
   "execution_count": 10,
   "id": "ad5b20ed",
   "metadata": {},
   "outputs": [
    {
     "name": "stdout",
     "output_type": "stream",
     "text": [
      "Model: \"sequential_1\"\n",
      "_________________________________________________________________\n",
      " Layer (type)                Output Shape              Param #   \n",
      "=================================================================\n",
      " conv2d_4 (Conv2D)           (None, 28, 28, 16)        160       \n",
      "                                                                 \n",
      " batch_normalization_4 (Bat  (None, 28, 28, 16)        64        \n",
      " chNormalization)                                                \n",
      "                                                                 \n",
      " max_pooling2d_2 (MaxPoolin  (None, 14, 14, 16)        0         \n",
      " g2D)                                                            \n",
      "                                                                 \n",
      " conv2d_5 (Conv2D)           (None, 14, 14, 32)        4640      \n",
      "                                                                 \n",
      " batch_normalization_5 (Bat  (None, 14, 14, 32)        128       \n",
      " chNormalization)                                                \n",
      "                                                                 \n",
      " max_pooling2d_3 (MaxPoolin  (None, 7, 7, 32)          0         \n",
      " g2D)                                                            \n",
      "                                                                 \n",
      " conv2d_6 (Conv2D)           (None, 7, 7, 64)          18496     \n",
      "                                                                 \n",
      " batch_normalization_6 (Bat  (None, 7, 7, 64)          256       \n",
      " chNormalization)                                                \n",
      "                                                                 \n",
      " conv2d_7 (Conv2D)           (None, 7, 7, 128)         73856     \n",
      "                                                                 \n",
      " batch_normalization_7 (Bat  (None, 7, 7, 128)         512       \n",
      " chNormalization)                                                \n",
      "                                                                 \n",
      " conv2d_8 (Conv2D)           (None, 7, 7, 256)         295168    \n",
      "                                                                 \n",
      " batch_normalization_8 (Bat  (None, 7, 7, 256)         1024      \n",
      " chNormalization)                                                \n",
      "                                                                 \n",
      " flatten_1 (Flatten)         (None, 12544)             0         \n",
      "                                                                 \n",
      " dense_3 (Dense)             (None, 256)               3211520   \n",
      "                                                                 \n",
      " dropout_2 (Dropout)         (None, 256)               0         \n",
      "                                                                 \n",
      " dense_4 (Dense)             (None, 128)               32896     \n",
      "                                                                 \n",
      " dropout_3 (Dropout)         (None, 128)               0         \n",
      "                                                                 \n",
      " dense_5 (Dense)             (None, 10)                1290      \n",
      "                                                                 \n",
      "=================================================================\n",
      "Total params: 3640010 (13.89 MB)\n",
      "Trainable params: 3639018 (13.88 MB)\n",
      "Non-trainable params: 992 (3.88 KB)\n",
      "_________________________________________________________________\n"
     ]
    }
   ],
   "source": [
    "model.summary()"
   ]
  },
  {
   "cell_type": "markdown",
   "id": "c7efb7cc",
   "metadata": {},
   "source": [
    "### e. Transfer Learning\n",
    "Load the VGG-19 model. Drop after the block4 conv1 layer (highlighted in the image below) and on top of it add one global average pooling layer, one fully connected layer, and one final output layer. Keep the base model layers (VGG19) freeze."
   ]
  },
  {
   "cell_type": "markdown",
   "id": "1e3302e1",
   "metadata": {},
   "source": [
    "### Importing the libraries"
   ]
  },
  {
   "cell_type": "code",
   "execution_count": 35,
   "id": "088362c5",
   "metadata": {},
   "outputs": [],
   "source": [
    "from tensorflow.keras.applications import VGG19\n",
    "from tensorflow.keras.models import Model\n",
    "from tensorflow.keras.layers import Dense, GlobalAveragePooling2D"
   ]
  },
  {
   "cell_type": "markdown",
   "id": "e0b260ed",
   "metadata": {},
   "source": [
    "### Load the pre-trained VGG-19 model"
   ]
  },
  {
   "cell_type": "code",
   "execution_count": 12,
   "id": "915f6323",
   "metadata": {
    "scrolled": true
   },
   "outputs": [
    {
     "name": "stdout",
     "output_type": "stream",
     "text": [
      "Downloading data from https://storage.googleapis.com/tensorflow/keras-applications/vgg19/vgg19_weights_tf_dim_ordering_tf_kernels_notop.h5\n",
      "80134624/80134624 [==============================] - 3s 0us/step\n"
     ]
    }
   ],
   "source": [
    "base_model = VGG19(weights='imagenet', include_top=False, input_shape=(224, 224, 3))"
   ]
  },
  {
   "cell_type": "markdown",
   "id": "2730ec41",
   "metadata": {},
   "source": [
    "### Base Model Summary"
   ]
  },
  {
   "cell_type": "code",
   "execution_count": 36,
   "id": "4b4208c1",
   "metadata": {},
   "outputs": [
    {
     "name": "stdout",
     "output_type": "stream",
     "text": [
      "Model: \"vgg19\"\n",
      "_________________________________________________________________\n",
      " Layer (type)                Output Shape              Param #   \n",
      "=================================================================\n",
      " input_1 (InputLayer)        [(None, 224, 224, 3)]     0         \n",
      "                                                                 \n",
      " block1_conv1 (Conv2D)       (None, 224, 224, 64)      1792      \n",
      "                                                                 \n",
      " block1_conv2 (Conv2D)       (None, 224, 224, 64)      36928     \n",
      "                                                                 \n",
      " block1_pool (MaxPooling2D)  (None, 112, 112, 64)      0         \n",
      "                                                                 \n",
      " block2_conv1 (Conv2D)       (None, 112, 112, 128)     73856     \n",
      "                                                                 \n",
      " block2_conv2 (Conv2D)       (None, 112, 112, 128)     147584    \n",
      "                                                                 \n",
      " block2_pool (MaxPooling2D)  (None, 56, 56, 128)       0         \n",
      "                                                                 \n",
      " block3_conv1 (Conv2D)       (None, 56, 56, 256)       295168    \n",
      "                                                                 \n",
      " block3_conv2 (Conv2D)       (None, 56, 56, 256)       590080    \n",
      "                                                                 \n",
      " block3_conv3 (Conv2D)       (None, 56, 56, 256)       590080    \n",
      "                                                                 \n",
      " block3_conv4 (Conv2D)       (None, 56, 56, 256)       590080    \n",
      "                                                                 \n",
      " block3_pool (MaxPooling2D)  (None, 28, 28, 256)       0         \n",
      "                                                                 \n",
      " block4_conv1 (Conv2D)       (None, 28, 28, 512)       1180160   \n",
      "                                                                 \n",
      " block4_conv2 (Conv2D)       (None, 28, 28, 512)       2359808   \n",
      "                                                                 \n",
      " block4_conv3 (Conv2D)       (None, 28, 28, 512)       2359808   \n",
      "                                                                 \n",
      " block4_conv4 (Conv2D)       (None, 28, 28, 512)       2359808   \n",
      "                                                                 \n",
      " block4_pool (MaxPooling2D)  (None, 14, 14, 512)       0         \n",
      "                                                                 \n",
      " block5_conv1 (Conv2D)       (None, 14, 14, 512)       2359808   \n",
      "                                                                 \n",
      " block5_conv2 (Conv2D)       (None, 14, 14, 512)       2359808   \n",
      "                                                                 \n",
      " block5_conv3 (Conv2D)       (None, 14, 14, 512)       2359808   \n",
      "                                                                 \n",
      " block5_conv4 (Conv2D)       (None, 14, 14, 512)       2359808   \n",
      "                                                                 \n",
      " block5_pool (MaxPooling2D)  (None, 7, 7, 512)         0         \n",
      "                                                                 \n",
      "=================================================================\n",
      "Total params: 20024384 (76.39 MB)\n",
      "Trainable params: 0 (0.00 Byte)\n",
      "Non-trainable params: 20024384 (76.39 MB)\n",
      "_________________________________________________________________\n"
     ]
    }
   ],
   "source": [
    "base_model.summary()"
   ]
  },
  {
   "cell_type": "markdown",
   "id": "e7c1217b",
   "metadata": {},
   "source": [
    "#### Freezing the layers in the base model"
   ]
  },
  {
   "cell_type": "code",
   "execution_count": 37,
   "id": "0abe8f49",
   "metadata": {},
   "outputs": [],
   "source": [
    "for layer in base_model.layers:\n",
    "    layer.trainable = False"
   ]
  },
  {
   "cell_type": "markdown",
   "id": "136a61b5",
   "metadata": {},
   "source": [
    "#### Getting the index of the layer (block4 conv1) after which to drop"
   ]
  },
  {
   "cell_type": "code",
   "execution_count": 38,
   "id": "cc8ed16f",
   "metadata": {},
   "outputs": [],
   "source": [
    "layer_index_to_drop = 12  # This index corresponds to block4_conv1 layer in VGG-19"
   ]
  },
  {
   "cell_type": "markdown",
   "id": "4a6fea81",
   "metadata": {},
   "source": [
    "#### Creating a new model"
   ]
  },
  {
   "cell_type": "code",
   "execution_count": 39,
   "id": "bf8a6908",
   "metadata": {},
   "outputs": [],
   "source": [
    "new_model = Model(inputs=base_model.input, outputs=base_model.layers[layer_index_to_drop].output)"
   ]
  },
  {
   "cell_type": "markdown",
   "id": "193f4f12",
   "metadata": {},
   "source": [
    "#### New model summary"
   ]
  },
  {
   "cell_type": "code",
   "execution_count": 40,
   "id": "a2008331",
   "metadata": {},
   "outputs": [
    {
     "name": "stdout",
     "output_type": "stream",
     "text": [
      "Model: \"model_6\"\n",
      "_________________________________________________________________\n",
      " Layer (type)                Output Shape              Param #   \n",
      "=================================================================\n",
      " input_1 (InputLayer)        [(None, 224, 224, 3)]     0         \n",
      "                                                                 \n",
      " block1_conv1 (Conv2D)       (None, 224, 224, 64)      1792      \n",
      "                                                                 \n",
      " block1_conv2 (Conv2D)       (None, 224, 224, 64)      36928     \n",
      "                                                                 \n",
      " block1_pool (MaxPooling2D)  (None, 112, 112, 64)      0         \n",
      "                                                                 \n",
      " block2_conv1 (Conv2D)       (None, 112, 112, 128)     73856     \n",
      "                                                                 \n",
      " block2_conv2 (Conv2D)       (None, 112, 112, 128)     147584    \n",
      "                                                                 \n",
      " block2_pool (MaxPooling2D)  (None, 56, 56, 128)       0         \n",
      "                                                                 \n",
      " block3_conv1 (Conv2D)       (None, 56, 56, 256)       295168    \n",
      "                                                                 \n",
      " block3_conv2 (Conv2D)       (None, 56, 56, 256)       590080    \n",
      "                                                                 \n",
      " block3_conv3 (Conv2D)       (None, 56, 56, 256)       590080    \n",
      "                                                                 \n",
      " block3_conv4 (Conv2D)       (None, 56, 56, 256)       590080    \n",
      "                                                                 \n",
      " block3_pool (MaxPooling2D)  (None, 28, 28, 256)       0         \n",
      "                                                                 \n",
      " block4_conv1 (Conv2D)       (None, 28, 28, 512)       1180160   \n",
      "                                                                 \n",
      "=================================================================\n",
      "Total params: 3505728 (13.37 MB)\n",
      "Trainable params: 0 (0.00 Byte)\n",
      "Non-trainable params: 3505728 (13.37 MB)\n",
      "_________________________________________________________________\n"
     ]
    }
   ],
   "source": [
    "new_model.summary()"
   ]
  },
  {
   "cell_type": "code",
   "execution_count": 41,
   "id": "206954cf",
   "metadata": {},
   "outputs": [],
   "source": [
    "# Get the output of the last convolutional layer in block4\n",
    "x = base_model.get_layer('block4_conv1').output"
   ]
  },
  {
   "cell_type": "markdown",
   "id": "c3635e85",
   "metadata": {},
   "source": [
    "#### Adding one global average pooling layer, one fully connected layer, and one final output layer"
   ]
  },
  {
   "cell_type": "code",
   "execution_count": 42,
   "id": "e56690a8",
   "metadata": {},
   "outputs": [
    {
     "name": "stdout",
     "output_type": "stream",
     "text": [
      "Model: \"model_7\"\n",
      "_________________________________________________________________\n",
      " Layer (type)                Output Shape              Param #   \n",
      "=================================================================\n",
      " input_1 (InputLayer)        [(None, 224, 224, 3)]     0         \n",
      "                                                                 \n",
      " block1_conv1 (Conv2D)       (None, 224, 224, 64)      1792      \n",
      "                                                                 \n",
      " block1_conv2 (Conv2D)       (None, 224, 224, 64)      36928     \n",
      "                                                                 \n",
      " block1_pool (MaxPooling2D)  (None, 112, 112, 64)      0         \n",
      "                                                                 \n",
      " block2_conv1 (Conv2D)       (None, 112, 112, 128)     73856     \n",
      "                                                                 \n",
      " block2_conv2 (Conv2D)       (None, 112, 112, 128)     147584    \n",
      "                                                                 \n",
      " block2_pool (MaxPooling2D)  (None, 56, 56, 128)       0         \n",
      "                                                                 \n",
      " block3_conv1 (Conv2D)       (None, 56, 56, 256)       295168    \n",
      "                                                                 \n",
      " block3_conv2 (Conv2D)       (None, 56, 56, 256)       590080    \n",
      "                                                                 \n",
      " block3_conv3 (Conv2D)       (None, 56, 56, 256)       590080    \n",
      "                                                                 \n",
      " block3_conv4 (Conv2D)       (None, 56, 56, 256)       590080    \n",
      "                                                                 \n",
      " block3_pool (MaxPooling2D)  (None, 28, 28, 256)       0         \n",
      "                                                                 \n",
      " block4_conv1 (Conv2D)       (None, 28, 28, 512)       1180160   \n",
      "                                                                 \n",
      " global_average_pooling2d_3  (None, 512)               0         \n",
      "  (GlobalAveragePooling2D)                                       \n",
      "                                                                 \n",
      " dense_10 (Dense)            (None, 256)               131328    \n",
      "                                                                 \n",
      " dense_11 (Dense)            (None, 10)                2570      \n",
      "                                                                 \n",
      "=================================================================\n",
      "Total params: 3639626 (13.88 MB)\n",
      "Trainable params: 133898 (523.04 KB)\n",
      "Non-trainable params: 3505728 (13.37 MB)\n",
      "_________________________________________________________________\n"
     ]
    }
   ],
   "source": [
    "# Add a global average pooling layer\n",
    "x = GlobalAveragePooling2D()(x)\n",
    "\n",
    "# Add a fully connected layer\n",
    "x = Dense(256, activation='relu')(x)\n",
    "\n",
    "# Add the final output layer\n",
    "predictions = Dense(10, activation='softmax')(x)\n",
    "\n",
    "# Creating the final model\n",
    "final_model = Model(inputs=base_model.input, outputs=predictions)\n",
    "\n",
    "# Compiling the model\n",
    "final_model.compile(optimizer='adam', loss='categorical_crossentropy', metrics=['accuracy'])\n",
    "\n",
    "# Model Summary after dropping the layers below block4_conv1 and adding the global average pooling, \n",
    "# fully connected and final output layer\n",
    "final_model.summary()"
   ]
  },
  {
   "cell_type": "markdown",
   "id": "fcccee05",
   "metadata": {},
   "source": [
    "### Problem 2: Developing ResNet model from scratch\n",
    "Apply a residual network specified in the following architecture. All convolutional layers use kernel size 3, stride = 1, and padding = “same”"
   ]
  },
  {
   "cell_type": "markdown",
   "id": "073fcb03",
   "metadata": {},
   "source": [
    "Link to shared google drive with code and .h5 file of the model: https://drive.google.com/drive/u/0/folders/0ACThGuV5YRYxUk9PVA"
   ]
  },
  {
   "cell_type": "markdown",
   "id": "92aadf22",
   "metadata": {},
   "source": [
    "### Importing necessary libraries"
   ]
  },
  {
   "cell_type": "code",
   "execution_count": null,
   "id": "537d479b",
   "metadata": {},
   "outputs": [],
   "source": [
    "import tensorflow as tf\n",
    "from tensorflow.keras.layers import Input, Conv2D, BatchNormalization, ReLU, Add, GlobalAveragePooling2D, Dense\n",
    "from tensorflow.keras.models import Model\n",
    "from tensorflow.keras.datasets import fashion_mnist\n",
    "from tensorflow.keras.utils import to_categorical"
   ]
  },
  {
   "cell_type": "markdown",
   "id": "60d1e2c7",
   "metadata": {},
   "source": [
    "### Building the residual block"
   ]
  },
  {
   "cell_type": "code",
   "execution_count": null,
   "id": "25b323ce",
   "metadata": {},
   "outputs": [],
   "source": [
    "def residual_block(x, filters, kernel_size=3, strides=1):\n",
    "    y = Conv2D(filters, kernel_size=kernel_size, strides=strides, padding='same')(x)\n",
    "    y = BatchNormalization()(y)\n",
    "    y = ReLU()(y)\n",
    "    y = Conv2D(filters, kernel_size=kernel_size, strides=strides, padding='same')(y)\n",
    "    y = BatchNormalization()(y)\n",
    "\n",
    "    if x.shape[-1] != y.shape[-1]:\n",
    "        x = Conv2D(filters, kernel_size=1, strides=strides, padding='same')(x)\n",
    "    return Add()([y, x]), ReLU()(Add()([y, x]))"
   ]
  },
  {
   "cell_type": "markdown",
   "id": "33906423",
   "metadata": {},
   "source": [
    "### Building the ResNet "
   ]
  },
  {
   "cell_type": "code",
   "execution_count": null,
   "id": "d14c3886",
   "metadata": {},
   "outputs": [],
   "source": [
    "def resnet(input_shape=(28, 28, 1), num_classes=10):\n",
    "    inputs = Input(shape=input_shape)\n",
    "    x = Conv2D(32, 3, padding='same')(inputs)\n",
    "    x = BatchNormalization()(x)\n",
    "    x = ReLU()(x)\n",
    "\n",
    "    # Section A: Iterate through 3 residual blocks with 32 filters.\n",
    "    for _ in range(3):\n",
    "        x, _ = residual_block(x, 32)\n",
    "\n",
    "    # Section B: Iterate through 3 residual blocks with 64 filters.\n",
    "    for _ in range(3):\n",
    "        x, _ = residual_block(x, 64)\n",
    "\n",
    "    # Section C: Iterate through 3 residual blocks with 128 filters.\n",
    "    for _ in range(3):\n",
    "        x, _ = residual_block(x, 128)\n",
    "\n",
    "    #Add a Global Average Pooling and Dense Layer\n",
    "\n",
    "    x = GlobalAveragePooling2D()(x)\n",
    "    x = Dense(num_classes, activation='softmax')(x)\n",
    "\n",
    "    model = Model(inputs, x) # Define the model with the specified input and output layers.\n",
    "    return model"
   ]
  },
  {
   "cell_type": "markdown",
   "id": "3d857a21",
   "metadata": {},
   "source": [
    "#### Load Fashion MNIST data"
   ]
  },
  {
   "cell_type": "code",
   "execution_count": null,
   "id": "a906a76b",
   "metadata": {},
   "outputs": [],
   "source": [
    "(x_train, y_train), (x_test, y_test) = fashion_mnist.load_data()\n",
    "x_train = x_train.reshape(-1, 28, 28, 1) / 255.0\n",
    "x_test = x_test.reshape(-1, 28, 28, 1) / 255.0\n",
    "y_train = to_categorical(y_train, 10)\n",
    "y_test = to_categorical(y_test, 10)"
   ]
  },
  {
   "cell_type": "markdown",
   "id": "864bdf81",
   "metadata": {},
   "source": [
    "#### Create and compiling the ResNet model"
   ]
  },
  {
   "cell_type": "code",
   "execution_count": null,
   "id": "2d240b32",
   "metadata": {},
   "outputs": [],
   "source": [
    "# Create the model\n",
    "model = resnet()\n",
    "\n",
    "# Compile the model\n",
    "model.compile(optimizer='adam', loss='categorical_crossentropy', metrics=['accuracy'])"
   ]
  },
  {
   "cell_type": "markdown",
   "id": "d8f175fa",
   "metadata": {},
   "source": [
    "#### Saving the model in .h5"
   ]
  },
  {
   "cell_type": "code",
   "execution_count": null,
   "id": "73a272e7",
   "metadata": {},
   "outputs": [],
   "source": [
    "# Saving the trained model in .h5\n",
    "model.save('resnet_fashion_mnist.h5')\n",
    "\n",
    "# Loading the trained model from the model file\n",
    "loaded_model = tf.keras.models.load_model('resnet_fashion_mnist.h5')\n",
    "\n",
    "# Return the loaded model\n",
    "loaded_model"
   ]
  },
  {
   "cell_type": "markdown",
   "id": "27866b7e",
   "metadata": {},
   "source": [
    "#### Evaluate the model"
   ]
  },
  {
   "cell_type": "code",
   "execution_count": 75,
   "id": "4c770045",
   "metadata": {},
   "outputs": [
    {
     "name": "stdout",
     "output_type": "stream",
     "text": [
      "313/313 [==============================] - 232s 738ms/step - loss: 2.3410 - accuracy: 0.0385\n",
      "Test loss: 2.341022491455078\n",
      "Test accuracy: 0.03849999979138374\n"
     ]
    }
   ],
   "source": [
    "loss, accuracy = loaded_model.evaluate(x_test, y_test)\n",
    "\n",
    "print(f\"Test loss: {loss}\")\n",
    "print(f\"Test accuracy: {accuracy}\")"
   ]
  },
  {
   "cell_type": "markdown",
   "id": "4a56cfc3",
   "metadata": {},
   "source": [
    "#### Model Summary"
   ]
  },
  {
   "cell_type": "code",
   "execution_count": 76,
   "id": "8f8b1344",
   "metadata": {
    "scrolled": false
   },
   "outputs": [
    {
     "name": "stdout",
     "output_type": "stream",
     "text": [
      "Model: \"model_11\"\n",
      "__________________________________________________________________________________________________\n",
      " Layer (type)                Output Shape                 Param #   Connected to                  \n",
      "==================================================================================================\n",
      " input_6 (InputLayer)        [(None, 28, 28, 1)]          0         []                            \n",
      "                                                                                                  \n",
      " conv2d_141 (Conv2D)         (None, 28, 28, 32)           320       ['input_6[0][0]']             \n",
      "                                                                                                  \n",
      " batch_normalization_135 (B  (None, 28, 28, 32)           128       ['conv2d_141[0][0]']          \n",
      " atchNormalization)                                                                               \n",
      "                                                                                                  \n",
      " re_lu_65 (ReLU)             (None, 28, 28, 32)           0         ['batch_normalization_135[0][0\n",
      "                                                                    ]']                           \n",
      "                                                                                                  \n",
      " conv2d_142 (Conv2D)         (None, 28, 28, 32)           9248      ['re_lu_65[0][0]']            \n",
      "                                                                                                  \n",
      " batch_normalization_136 (B  (None, 28, 28, 32)           128       ['conv2d_142[0][0]']          \n",
      " atchNormalization)                                                                               \n",
      "                                                                                                  \n",
      " re_lu_66 (ReLU)             (None, 28, 28, 32)           0         ['batch_normalization_136[0][0\n",
      "                                                                    ]']                           \n",
      "                                                                                                  \n",
      " conv2d_143 (Conv2D)         (None, 28, 28, 32)           9248      ['re_lu_66[0][0]']            \n",
      "                                                                                                  \n",
      " batch_normalization_137 (B  (None, 28, 28, 32)           128       ['conv2d_143[0][0]']          \n",
      " atchNormalization)                                                                               \n",
      "                                                                                                  \n",
      " add_61 (Add)                (None, 28, 28, 32)           0         ['batch_normalization_137[0][0\n",
      "                                                                    ]',                           \n",
      "                                                                     're_lu_65[0][0]']            \n",
      "                                                                                                  \n",
      " conv2d_144 (Conv2D)         (None, 28, 28, 32)           9248      ['add_61[0][0]']              \n",
      "                                                                                                  \n",
      " batch_normalization_138 (B  (None, 28, 28, 32)           128       ['conv2d_144[0][0]']          \n",
      " atchNormalization)                                                                               \n",
      "                                                                                                  \n",
      " re_lu_68 (ReLU)             (None, 28, 28, 32)           0         ['batch_normalization_138[0][0\n",
      "                                                                    ]']                           \n",
      "                                                                                                  \n",
      " conv2d_145 (Conv2D)         (None, 28, 28, 32)           9248      ['re_lu_68[0][0]']            \n",
      "                                                                                                  \n",
      " batch_normalization_139 (B  (None, 28, 28, 32)           128       ['conv2d_145[0][0]']          \n",
      " atchNormalization)                                                                               \n",
      "                                                                                                  \n",
      " add_63 (Add)                (None, 28, 28, 32)           0         ['batch_normalization_139[0][0\n",
      "                                                                    ]',                           \n",
      "                                                                     'add_61[0][0]']              \n",
      "                                                                                                  \n",
      " conv2d_146 (Conv2D)         (None, 28, 28, 32)           9248      ['add_63[0][0]']              \n",
      "                                                                                                  \n",
      " batch_normalization_140 (B  (None, 28, 28, 32)           128       ['conv2d_146[0][0]']          \n",
      " atchNormalization)                                                                               \n",
      "                                                                                                  \n",
      " re_lu_70 (ReLU)             (None, 28, 28, 32)           0         ['batch_normalization_140[0][0\n",
      "                                                                    ]']                           \n",
      "                                                                                                  \n",
      " conv2d_147 (Conv2D)         (None, 28, 28, 32)           9248      ['re_lu_70[0][0]']            \n",
      "                                                                                                  \n",
      " batch_normalization_141 (B  (None, 28, 28, 32)           128       ['conv2d_147[0][0]']          \n",
      " atchNormalization)                                                                               \n",
      "                                                                                                  \n",
      " add_65 (Add)                (None, 28, 28, 32)           0         ['batch_normalization_141[0][0\n",
      "                                                                    ]',                           \n",
      "                                                                     'add_63[0][0]']              \n",
      "                                                                                                  \n",
      " conv2d_148 (Conv2D)         (None, 28, 28, 64)           18496     ['add_65[0][0]']              \n",
      "                                                                                                  \n",
      " batch_normalization_142 (B  (None, 28, 28, 64)           256       ['conv2d_148[0][0]']          \n",
      " atchNormalization)                                                                               \n",
      "                                                                                                  \n",
      " re_lu_72 (ReLU)             (None, 28, 28, 64)           0         ['batch_normalization_142[0][0\n",
      "                                                                    ]']                           \n",
      "                                                                                                  \n",
      " conv2d_149 (Conv2D)         (None, 28, 28, 64)           36928     ['re_lu_72[0][0]']            \n",
      "                                                                                                  \n",
      " batch_normalization_143 (B  (None, 28, 28, 64)           256       ['conv2d_149[0][0]']          \n",
      " atchNormalization)                                                                               \n",
      "                                                                                                  \n",
      " conv2d_150 (Conv2D)         (None, 28, 28, 64)           2112      ['add_65[0][0]']              \n",
      "                                                                                                  \n",
      " add_67 (Add)                (None, 28, 28, 64)           0         ['batch_normalization_143[0][0\n",
      "                                                                    ]',                           \n",
      "                                                                     'conv2d_150[0][0]']          \n",
      "                                                                                                  \n"
     ]
    },
    {
     "name": "stdout",
     "output_type": "stream",
     "text": [
      " conv2d_151 (Conv2D)         (None, 28, 28, 64)           36928     ['add_67[0][0]']              \n",
      "                                                                                                  \n",
      " batch_normalization_144 (B  (None, 28, 28, 64)           256       ['conv2d_151[0][0]']          \n",
      " atchNormalization)                                                                               \n",
      "                                                                                                  \n",
      " re_lu_74 (ReLU)             (None, 28, 28, 64)           0         ['batch_normalization_144[0][0\n",
      "                                                                    ]']                           \n",
      "                                                                                                  \n",
      " conv2d_152 (Conv2D)         (None, 28, 28, 64)           36928     ['re_lu_74[0][0]']            \n",
      "                                                                                                  \n",
      " batch_normalization_145 (B  (None, 28, 28, 64)           256       ['conv2d_152[0][0]']          \n",
      " atchNormalization)                                                                               \n",
      "                                                                                                  \n",
      " add_69 (Add)                (None, 28, 28, 64)           0         ['batch_normalization_145[0][0\n",
      "                                                                    ]',                           \n",
      "                                                                     'add_67[0][0]']              \n",
      "                                                                                                  \n",
      " conv2d_153 (Conv2D)         (None, 28, 28, 64)           36928     ['add_69[0][0]']              \n",
      "                                                                                                  \n",
      " batch_normalization_146 (B  (None, 28, 28, 64)           256       ['conv2d_153[0][0]']          \n",
      " atchNormalization)                                                                               \n",
      "                                                                                                  \n",
      " re_lu_76 (ReLU)             (None, 28, 28, 64)           0         ['batch_normalization_146[0][0\n",
      "                                                                    ]']                           \n",
      "                                                                                                  \n",
      " conv2d_154 (Conv2D)         (None, 28, 28, 64)           36928     ['re_lu_76[0][0]']            \n",
      "                                                                                                  \n",
      " batch_normalization_147 (B  (None, 28, 28, 64)           256       ['conv2d_154[0][0]']          \n",
      " atchNormalization)                                                                               \n",
      "                                                                                                  \n",
      " add_71 (Add)                (None, 28, 28, 64)           0         ['batch_normalization_147[0][0\n",
      "                                                                    ]',                           \n",
      "                                                                     'add_69[0][0]']              \n",
      "                                                                                                  \n",
      " conv2d_155 (Conv2D)         (None, 28, 28, 128)          73856     ['add_71[0][0]']              \n",
      "                                                                                                  \n",
      " batch_normalization_148 (B  (None, 28, 28, 128)          512       ['conv2d_155[0][0]']          \n",
      " atchNormalization)                                                                               \n",
      "                                                                                                  \n",
      " re_lu_78 (ReLU)             (None, 28, 28, 128)          0         ['batch_normalization_148[0][0\n",
      "                                                                    ]']                           \n",
      "                                                                                                  \n",
      " conv2d_156 (Conv2D)         (None, 28, 28, 128)          147584    ['re_lu_78[0][0]']            \n",
      "                                                                                                  \n",
      " batch_normalization_149 (B  (None, 28, 28, 128)          512       ['conv2d_156[0][0]']          \n",
      " atchNormalization)                                                                               \n",
      "                                                                                                  \n",
      " conv2d_157 (Conv2D)         (None, 28, 28, 128)          8320      ['add_71[0][0]']              \n",
      "                                                                                                  \n",
      " add_73 (Add)                (None, 28, 28, 128)          0         ['batch_normalization_149[0][0\n",
      "                                                                    ]',                           \n",
      "                                                                     'conv2d_157[0][0]']          \n",
      "                                                                                                  \n",
      " conv2d_158 (Conv2D)         (None, 28, 28, 128)          147584    ['add_73[0][0]']              \n",
      "                                                                                                  \n",
      " batch_normalization_150 (B  (None, 28, 28, 128)          512       ['conv2d_158[0][0]']          \n",
      " atchNormalization)                                                                               \n",
      "                                                                                                  \n",
      " re_lu_80 (ReLU)             (None, 28, 28, 128)          0         ['batch_normalization_150[0][0\n",
      "                                                                    ]']                           \n",
      "                                                                                                  \n",
      " conv2d_159 (Conv2D)         (None, 28, 28, 128)          147584    ['re_lu_80[0][0]']            \n",
      "                                                                                                  \n",
      " batch_normalization_151 (B  (None, 28, 28, 128)          512       ['conv2d_159[0][0]']          \n",
      " atchNormalization)                                                                               \n",
      "                                                                                                  \n",
      " add_75 (Add)                (None, 28, 28, 128)          0         ['batch_normalization_151[0][0\n",
      "                                                                    ]',                           \n",
      "                                                                     'add_73[0][0]']              \n",
      "                                                                                                  \n",
      " conv2d_160 (Conv2D)         (None, 28, 28, 128)          147584    ['add_75[0][0]']              \n",
      "                                                                                                  \n",
      " batch_normalization_152 (B  (None, 28, 28, 128)          512       ['conv2d_160[0][0]']          \n",
      " atchNormalization)                                                                               \n",
      "                                                                                                  \n",
      " re_lu_82 (ReLU)             (None, 28, 28, 128)          0         ['batch_normalization_152[0][0\n",
      "                                                                    ]']                           \n",
      "                                                                                                  \n",
      " conv2d_161 (Conv2D)         (None, 28, 28, 128)          147584    ['re_lu_82[0][0]']            \n",
      "                                                                                                  \n",
      " batch_normalization_153 (B  (None, 28, 28, 128)          512       ['conv2d_161[0][0]']          \n",
      " atchNormalization)                                                                               \n",
      "                                                                                                  \n"
     ]
    },
    {
     "name": "stdout",
     "output_type": "stream",
     "text": [
      " add_77 (Add)                (None, 28, 28, 128)          0         ['batch_normalization_153[0][0\n",
      "                                                                    ]',                           \n",
      "                                                                     'add_75[0][0]']              \n",
      "                                                                                                  \n",
      " global_average_pooling2d_7  (None, 128)                  0         ['add_77[0][0]']              \n",
      "  (GlobalAveragePooling2D)                                                                        \n",
      "                                                                                                  \n",
      " dense_51 (Dense)            (None, 10)                   1290      ['global_average_pooling2d_7[0\n",
      "                                                                    ][0]']                        \n",
      "                                                                                                  \n",
      "==================================================================================================\n",
      "Total params: 1087946 (4.15 MB)\n",
      "Trainable params: 1085194 (4.14 MB)\n",
      "Non-trainable params: 2752 (10.75 KB)\n",
      "__________________________________________________________________________________________________\n"
     ]
    }
   ],
   "source": [
    "model.summary()"
   ]
  }
 ],
 "metadata": {
  "kernelspec": {
   "display_name": "Python 3 (ipykernel)",
   "language": "python",
   "name": "python3"
  },
  "language_info": {
   "codemirror_mode": {
    "name": "ipython",
    "version": 3
   },
   "file_extension": ".py",
   "mimetype": "text/x-python",
   "name": "python",
   "nbconvert_exporter": "python",
   "pygments_lexer": "ipython3",
   "version": "3.11.4"
  }
 },
 "nbformat": 4,
 "nbformat_minor": 5
}
